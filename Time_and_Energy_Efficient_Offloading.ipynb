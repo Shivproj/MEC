{
  "nbformat": 4,
  "nbformat_minor": 0,
  "metadata": {
    "colab": {
      "name": "Time and Energy Efficient Offloading.ipynb",
      "provenance": [],
      "authorship_tag": "ABX9TyMIOhAVQu2/1YbfaJ9NhB5y",
      "include_colab_link": true
    },
    "kernelspec": {
      "name": "python3",
      "display_name": "Python 3"
    },
    "language_info": {
      "name": "python"
    }
  },
  "cells": [
    {
      "cell_type": "markdown",
      "metadata": {
        "id": "view-in-github",
        "colab_type": "text"
      },
      "source": [
        "<a href=\"https://colab.research.google.com/github/harish876/MEC/blob/master/Time_and_Energy_Efficient_Offloading.ipynb\" target=\"_parent\"><img src=\"https://colab.research.google.com/assets/colab-badge.svg\" alt=\"Open In Colab\"/></a>"
      ]
    },
    {
      "cell_type": "markdown",
      "source": [
        ""
      ],
      "metadata": {
        "id": "iqcmUWYPdKhL"
      }
    },
    {
      "cell_type": "markdown",
      "source": [
        "Statement:Here the Energy and Time Coefficients in our Project were set to 0.8 and 0.2 Respectively.\n",
        "\n",
        "Inference: This is due to the fact that we can give importance to the energy consumed as compared to time. This is a dynamic cost optimisation porblem involving 2 variables mainly time and energy.\n",
        "\n",
        "Hence we have chosen a greater value for energy to give it a greater weightage.\n"
      ],
      "metadata": {
        "id": "UJ6jKiXEldZW"
      }
    },
    {
      "cell_type": "markdown",
      "source": [
        "Objective: Impact of number of MEC Servers On energy, time and Cost\n"
      ],
      "metadata": {
        "id": "K6RxtZ9llx1n"
      }
    },
    {
      "cell_type": "code",
      "source": [
        "import numpy as np\n",
        "import matplotlib.pyplot as plt"
      ],
      "metadata": {
        "id": "zZ2Tvci13gWS"
      },
      "execution_count": null,
      "outputs": []
    },
    {
      "cell_type": "markdown",
      "source": [
        "**APPLICATION-2-ZERO SERVER**"
      ],
      "metadata": {
        "id": "6MJ_2brL2h-t"
      }
    },
    {
      "cell_type": "code",
      "source": [
        "#Percentage Pie of Task Allocation\n",
        "\n",
        "total_tasks=500\n",
        "iot_tasks=0\n",
        "mec_tasks=0\n",
        "cloud_tasks=500\n",
        "plt.xlabel('Policy Type')\n",
        "plt.ylabel('Number of Tasks')\n",
        "plt.title('Task Allocation Scheme using 0 MEC Server')\n",
        "x=[\"1-IOT DEVICE\",\"2-MEC SERVER\",\"3-CLOUD\"]\n",
        "y=[iot_tasks,mec_tasks,cloud_tasks]\n",
        "plt.bar(x,y)\n",
        "plt.show()\n",
        "\n",
        "#Cost Calculation for a single task\n",
        "#iot_cost\n",
        "cpu_core_energy_iot=0\n",
        "transfer_energy_iot=0\n",
        "cpu_core_time_iot=0\n",
        "transfer_time_iot=0\n",
        "cost_iot=0\n",
        "#mec_cost\n",
        "cpu_core_energy_mec=245025\n",
        "transfer_energy_mec=140313\n",
        "cpu_core_time_mec=266666\n",
        "transfer_time_mec=32021\n",
        "cost_mec=368008\n",
        "#cloud_cost\n",
        "cpu_core_energy_cloud=1245128\n",
        "transfer_energy_cloud=257132\n",
        "cpu_core_time_cloud=51282\n",
        "transfer_time_cloud=64010\n",
        "cost_cloud=1024221\n",
        "p_pie=[iot_tasks/total_tasks,mec_tasks/total_tasks,cloud_tasks/total_tasks]\n",
        "plt.pie(p_pie,labels=['IOT','CLOUD','MEC'])\n",
        "\n",
        "\n",
        "#total_execution_energy\n",
        "t_energy=p_pie[0]*(cpu_core_energy_iot+transfer_energy_iot)+p_pie[1]*(cpu_core_energy_mec+transfer_energy_mec)+p_pie[2]*(cpu_core_energy_cloud+transfer_energy_cloud)\n",
        "print(\"The total Execution Energy with Zero MEC Servers: \" + str(t_energy))\n",
        "\n",
        "\n",
        "#total_execution_time\n",
        "t_time=p_pie[0]*(cpu_core_time_iot+transfer_time_iot)+p_pie[1]*(cpu_core_time_mec+transfer_time_mec)+p_pie[2]*(cpu_core_time_cloud+transfer_time_cloud)\n",
        "print(\"The total Execution time with Zero MEC Servers: \"+ str(t_time))\n",
        "\n",
        "#total_cost_time\n",
        "t_cost=p_pie[0]*(cost_iot)+p_pie[1]*(cost_mec)+p_pie[2]*(cost_cloud)\n",
        "print(\"The total Cost with zero MEC Servers: \"+ str(t_cost))\n"
      ],
      "metadata": {
        "colab": {
          "base_uri": "https://localhost:8080/",
          "height": 578
        },
        "id": "Yb7f90om2pY6",
        "outputId": "d375fb55-fb5c-4c34-aac5-52b7e5171d52"
      },
      "execution_count": null,
      "outputs": [
        {
          "output_type": "display_data",
          "data": {
            "text/plain": [
              "<Figure size 432x288 with 1 Axes>"
            ],
            "image/png": "[encoded data removed]"
          },
          "metadata": {
            "needs_background": "light"
          }
        },
        {
          "output_type": "stream",
          "name": "stdout",
          "text": [
            "The total Execution Energy with Zero MEC Servers: 1502260.0\n",
            "The total Execution time with Zero MEC Servers: 115292.0\n",
            "The total Cost with zero MEC Servers: 1024221.0\n"
          ]
        },
        {
          "output_type": "display_data",
          "data": {
            "text/plain": [
              "<Figure size 432x288 with 1 Axes>"
            ],
            "image/png": "[encoded data removed]"
          },
          "metadata": {}
        }
      ]
    },
    {
      "cell_type": "markdown",
      "source": [
        "**APPLICATION-2- ONE MEC SERVER**\n",
        "\n",
        "---\n",
        "\n"
      ],
      "metadata": {
        "id": "sFWpXH-3zLsg"
      }
    },
    {
      "cell_type": "code",
      "execution_count": null,
      "metadata": {
        "colab": {
          "base_uri": "https://localhost:8080/",
          "height": 595
        },
        "id": "rQqFHOFydJqI",
        "outputId": "758074ce-25da-4385-8b2d-b508f8841495"
      },
      "outputs": [
        {
          "output_type": "display_data",
          "data": {
            "text/plain": [
              "<Figure size 432x288 with 1 Axes>"
            ],
            "image/png": "[encoded data removed]"
          },
          "metadata": {
            "needs_background": "light"
          }
        },
        {
          "output_type": "stream",
          "name": "stdout",
          "text": [
            "[0.0, 0.08, 0.92]\n",
            "The total Execution Energy with one MEC Servers: 1412906.24\n",
            "The total Execution time with one MEC Servers: 129963.6\n",
            "The total Cost with one MEC Servers: 971723.9600000001\n"
          ]
        },
        {
          "output_type": "display_data",
          "data": {
            "text/plain": [
              "<Figure size 432x288 with 1 Axes>"
            ],
            "image/png": "[encoded data removed]"
          },
          "metadata": {}
        }
      ],
      "source": [
        "total_tasks=500\n",
        "iot_tasks=0\n",
        "mec_tasks=40\n",
        "cloud_tasks=460\n",
        "plt.xlabel('Policy Type')\n",
        "plt.ylabel('Number of Tasks')\n",
        "plt.title('Task Allocation Scheme using 1 MEC Server')\n",
        "x=[\"1-IOT DEVICE\",\"2-MEC SERVER\",\"3-CLOUD\"]\n",
        "y=[iot_tasks,mec_tasks,cloud_tasks]\n",
        "plt.bar(x,y)\n",
        "plt.show()\n",
        "\n",
        "#Cost Calculation\n",
        "#iot_cost\n",
        "cpu_core_energy_iot=0\n",
        "transfer_energy_iot=0\n",
        "cpu_core_time_iot=0\n",
        "transfer_time_iot=0\n",
        "cost_iot=0\n",
        "#mec_cost\n",
        "cpu_core_energy_mec=245025\n",
        "transfer_energy_mec=140313\n",
        "cpu_core_time_mec=266666\n",
        "transfer_time_mec=32021\n",
        "cost_mec=368008\n",
        "#cloud_cost\n",
        "cpu_core_energy_cloud=1245128\n",
        "transfer_energy_cloud=257132\n",
        "cpu_core_time_cloud=51282\n",
        "transfer_time_cloud=64010\n",
        "cost_cloud=1024221\n",
        "p_pie=[iot_tasks/total_tasks,mec_tasks/total_tasks,cloud_tasks/total_tasks]\n",
        "print(p_pie)\n",
        "plt.pie(p_pie,labels=['IOT','CLOUD','MEC'])\n",
        "\n",
        "#total_execution_energy\n",
        "t_energy=p_pie[0]*(cpu_core_energy_iot+transfer_energy_iot)+p_pie[1]*(cpu_core_energy_mec+transfer_energy_mec)+p_pie[2]*(cpu_core_energy_cloud+transfer_energy_cloud)\n",
        "print(\"The total Execution Energy with one MEC Servers: \" + str(t_energy))\n",
        "\n",
        "\n",
        "#total_execution_time\n",
        "t_time=p_pie[0]*(cpu_core_time_iot+transfer_time_iot)+p_pie[1]*(cpu_core_time_mec+transfer_time_mec)+p_pie[2]*(cpu_core_time_cloud+transfer_time_cloud)\n",
        "print(\"The total Execution time with one MEC Servers: \"+ str(t_time))\n",
        "\n",
        "#total_cost_time\n",
        "t_cost=p_pie[0]*(cost_iot)+p_pie[1]*(cost_mec)+p_pie[2]*(cost_cloud)\n",
        "print(\"The total Cost with one MEC Servers: \"+ str(t_cost))\n"
      ]
    },
    {
      "cell_type": "markdown",
      "source": [
        "**APPLICATION-2- TWO MEC SERVER**"
      ],
      "metadata": {
        "id": "ccwO59yM07xj"
      }
    },
    {
      "cell_type": "code",
      "source": [
        "total_tasks=500\n",
        "iot_tasks=0\n",
        "mec_tasks=80\n",
        "cloud_tasks=420\n",
        "plt.xlabel('Policy Type')\n",
        "plt.ylabel('Number of Tasks')\n",
        "plt.title('Task Allocation Scheme using 2 MEC Server')\n",
        "x=[\"1-IOT DEVICE\",\"2-MEC SERVER\",\"3-CLOUD\"]\n",
        "y=[iot_tasks,mec_tasks,cloud_tasks]\n",
        "plt.bar(x,y)\n",
        "plt.show()\n",
        "\n",
        "#Cost Calculation\n",
        "#iot_cost\n",
        "cpu_core_energy_iot=0\n",
        "transfer_energy_iot=0\n",
        "cpu_core_time_iot=0\n",
        "transfer_time_iot=0\n",
        "cost_iot=0\n",
        "#mec_cost\n",
        "cpu_core_energy_mec=245025\n",
        "transfer_energy_mec=140313\n",
        "cpu_core_time_mec=266666\n",
        "transfer_time_mec=32021\n",
        "cost_mec=368008\n",
        "#cloud_cost\n",
        "cpu_core_energy_cloud=1245128\n",
        "transfer_energy_cloud=257132\n",
        "cpu_core_time_cloud=51282\n",
        "transfer_time_cloud=64010\n",
        "cost_cloud=1024221\n",
        "p_pie=[iot_tasks/total_tasks,mec_tasks/total_tasks,cloud_tasks/total_tasks]\n",
        "print(p_pie)\n",
        "plt.pie(p_pie,labels=['IOT','CLOUD','MEC'])\n",
        "\n",
        "#total_execution_energy\n",
        "t_energy=p_pie[0]*(cpu_core_energy_iot+transfer_energy_iot)+p_pie[1]*(cpu_core_energy_mec+transfer_energy_mec)+p_pie[2]*(cpu_core_energy_cloud+transfer_energy_cloud)\n",
        "print(\"The total Execution Energy with two MEC Servers: \" + str(t_energy))\n",
        "\n",
        "\n",
        "#total_execution_time\n",
        "t_time=p_pie[0]*(cpu_core_time_iot+transfer_time_iot)+p_pie[1]*(cpu_core_time_mec+transfer_time_mec)+p_pie[2]*(cpu_core_time_cloud+transfer_time_cloud)\n",
        "print(\"The total Execution time with two MEC Servers: \"+ str(t_time))\n",
        "\n",
        "#total_cost_time\n",
        "t_cost=p_pie[0]*(cost_iot)+p_pie[1]*(cost_mec)+p_pie[2]*(cost_cloud)\n",
        "print(\"The total Cost with 2 MEC Servers: \"+ str(t_cost))\n"
      ],
      "metadata": {
        "colab": {
          "base_uri": "https://localhost:8080/",
          "height": 595
        },
        "id": "pgLVThp31ALw",
        "outputId": "b8acf58b-821d-4197-e8de-70dfc8ae2cc9"
      },
      "execution_count": null,
      "outputs": [
        {
          "output_type": "display_data",
          "data": {
            "text/plain": [
              "<Figure size 432x288 with 1 Axes>"
            ],
            "image/png": "[encoded data removed]"
          },
          "metadata": {
            "needs_background": "light"
          }
        },
        {
          "output_type": "stream",
          "name": "stdout",
          "text": [
            "[0.0, 0.16, 0.84]\n",
            "The total Execution Energy with two MEC Servers: 1323552.48\n",
            "The total Execution time with two MEC Servers: 144635.2\n",
            "The total Cost with 2 MEC Servers: 919226.92\n"
          ]
        },
        {
          "output_type": "display_data",
          "data": {
            "text/plain": [
              "<Figure size 432x288 with 1 Axes>"
            ],
            "image/png": "[encoded data removed]"
          },
          "metadata": {}
        }
      ]
    },
    {
      "cell_type": "code",
      "source": [
        "#Comparison of the Total Energies , Execution Time and Total Cost\n",
        "t_energy=[1502260.0,1412906.24,564045.52]\n",
        "t_time=[115292.0,129963.6,269343.8]\n",
        "t_cost=[1024221.0,971723.960,473002.079]\n",
        "\n",
        "plt.xlabel('Number of MEC Servers')\n",
        "plt.ylabel('Total Execution Time')\n",
        "plt.title('Comparision of Time on Number of  MEC Servers')\n",
        "x=[\"ZERO MEC\",\"ONE MEC\",\"TWO MEC\"]\n",
        "plt.bar(x,t_time)"
      ],
      "metadata": {
        "colab": {
          "base_uri": "https://localhost:8080/",
          "height": 313
        },
        "id": "r4qKeuAy94p_",
        "outputId": "4c09e9ae-74e3-4f86-e713-1df0e163f375"
      },
      "execution_count": null,
      "outputs": [
        {
          "output_type": "execute_result",
          "data": {
            "text/plain": [
              "<BarContainer object of 3 artists>"
            ]
          },
          "metadata": {},
          "execution_count": 5
        },
        {
          "output_type": "display_data",
          "data": {
            "text/plain": [
              "<Figure size 432x288 with 1 Axes>"
            ],
            "image/png": "[encoded data removed]"
          },
          "metadata": {
            "needs_background": "light"
          }
        }
      ]
    },
    {
      "cell_type": "code",
      "source": [
        "#Comparison of the Total Energies , Execution Time and Total Cost\n",
        "t_energy=[1502260.0,1412906.24,564045.52]\n",
        "t_time=[115292.0,129963.6,269343.8]\n",
        "t_cost=[1024221.0,971723.960,473002.079]\n",
        "\n",
        "plt.xlabel('Number of MEC Servers')\n",
        "plt.ylabel('Total energy')\n",
        "plt.title('Comparision of Energy on Number of  MEC Servers')\n",
        "x=[\"ZERO MEC\",\"ONE MEC\",\"TWO MEC\"]\n",
        "plt.bar(x,t_energy)"
      ],
      "metadata": {
        "colab": {
          "base_uri": "https://localhost:8080/",
          "height": 313
        },
        "id": "hJRNwcslAaHc",
        "outputId": "3bcb35e0-ac55-43cd-b9a3-7aa9564dc6a1"
      },
      "execution_count": null,
      "outputs": [
        {
          "output_type": "execute_result",
          "data": {
            "text/plain": [
              "<BarContainer object of 3 artists>"
            ]
          },
          "metadata": {},
          "execution_count": 6
        },
        {
          "output_type": "display_data",
          "data": {
            "text/plain": [
              "<Figure size 432x288 with 1 Axes>"
            ],
            "image/png": "[encoded data removed]"
          },
          "metadata": {
            "needs_background": "light"
          }
        }
      ]
    },
    {
      "cell_type": "code",
      "source": [
        "#Comparison of the Total Energies , Execution Time and Total Cost\n",
        "t_energy=[1502260.0,1412906.24,564045.52]\n",
        "t_time=[115292.0,129963.6,269343.8]\n",
        "t_cost=[1024221.0,971723.960,473002.079]\n",
        "\n",
        "plt.xlabel('Number of MEC Servers')\n",
        "plt.ylabel('Total Cost')\n",
        "plt.title('Comparision of Cost on Number of  MEC Servers')\n",
        "x=[\"ZERO MEC\",\"ONE MEC\",\"TWO MEC\"]\n",
        "plt.bar(x,t_cost)\n",
        "\n",
        "\n",
        "#Comparitive Difference\n",
        "#zero-mec 1-mec 2-mec\n",
        "t01=[]\n",
        "t02=[]\n",
        "t03=[]\n",
        "for i in range(1,3):\n",
        "  t01.append([(t_energy[i]-t_energy[i-1])/t_energy[i]])\n",
        "  t02.append([(t_time[i]-t_energy[i-1])/t_time[i]])\n",
        "  t03.append([(t_cost[i]-t_energy[i-1])/t_cost[i]])\n",
        "\n",
        "print(t01)\n",
        "print(t02)\n",
        "print(t03)\n",
        "\n",
        "\n"
      ],
      "metadata": {
        "colab": {
          "base_uri": "https://localhost:8080/",
          "height": 347
        },
        "id": "SsQQU1cCAaYB",
        "outputId": "9dc9dd84-5fb2-4e5c-9b59-c323e4fe1f9d"
      },
      "execution_count": null,
      "outputs": [
        {
          "output_type": "stream",
          "name": "stdout",
          "text": [
            "[[-0.06324111074773087], [-1.5049507351817988]]\n",
            "[[-10.559082697001314], [-4.245735153361615]]\n",
            "[[-0.545974023322426], [-1.9871036571067586]]\n"
          ]
        },
        {
          "output_type": "display_data",
          "data": {
            "text/plain": [
              "<Figure size 432x288 with 1 Axes>"
            ],
            "image/png": "[encoded data removed]"
          },
          "metadata": {
            "needs_background": "light"
          }
        }
      ]
    },
    {
      "cell_type": "code",
      "source": [
        ""
      ],
      "metadata": {
        "id": "9ztBmxf9CUXn"
      },
      "execution_count": null,
      "outputs": []
    },
    {
      "cell_type": "markdown",
      "source": [
        "RESULT:*italicized text*// to be done"
      ],
      "metadata": {
        "id": "cQNrXxsdCNMa"
      }
    }
  ]
}